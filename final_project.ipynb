{
 "cells": [
  {
   "cell_type": "markdown",
   "metadata": {},
   "source": [
    "<h1 dir=\"rtl\">פרוייקט סיום בהשתלמות מורים בנושא למידה עמוקה</h1>"
   ]
  },
  {
   "cell_type": "markdown",
   "metadata": {},
   "source": [
    "<div dir=\"rtl\">\n",
    "<table dir>\n",
    "  <tr>\n",
    "    <td>מגיש</td>\n",
    "    <td>איתי בארלי</td>\n",
    "  </tr>\n",
    "  <tr>\n",
    "    <td>מספר ת\"ז</td>\n",
    "    <td>032866204</td>\n",
    "  </tr>\n",
    "  <tr>\n",
    "    <td>תאריך הגשה</td>\n",
    "    <td>1 ספטמבר 2024</td>\n",
    "  </tr>\n",
    "  <tr>\n",
    "    <td>מורים</td>\n",
    "    <td>אריאל בר-יצחק, אורן עוזרד</td>\n",
    "  </tr>\n",
    "</table>\n",
    "</div>"
   ]
  },
  {
   "cell_type": "markdown",
   "metadata": {},
   "source": [
    "<h2 dir=\"rtl\">הנתונים</h2>"
   ]
  },
  {
   "cell_type": "markdown",
   "metadata": {},
   "source": [
    "<div dir=\"rtl\">\n",
    "<table dir>\n",
    "  <tr>\n",
    "    <td>נושא</td>\n",
    "    <td>תחרויות שחמט</td>\n",
    "  </tr>\n",
    "  <tr>\n",
    "    <td>אתר</td>\n",
    "    <td>Kaggle</td>\n",
    "  </tr>\n",
    "  <tr>\n",
    "    <td>כותרת הדף</td>\n",
    "    <td>Chess Game Dataset</td>\n",
    "  </tr>\n",
    "  <tr>\n",
    "    <td>תאריך עדכון אחרון</td>\n",
    "    <td>19 ספטמבר 2020</td>\n",
    "  </tr>\n",
    "  <tr>\n",
    "    <td>שם בעל הדף</td>\n",
    "    <td>Praveen Kumar</td>\n",
    "  </tr>\n",
    "  <tr>\n",
    "    <td>קישור</td>\n",
    "    <td><a href=\"https://www.kaggle.com/datasets/penchalaiah123/chess-game-dataset/data\">Kaggle</a></td>\n",
    "  </tr>\n",
    "  <tr>\n",
    "    <td>קישור חלופי</td>\n",
    "    <td><a href=\"https://raw.githubusercontent.com/ItaiBTeacher/ml-2324/main/projects/chess/data/static/dataset.csv\">GitHub</a></td>\n",
    "  </tr>\n",
    "  <tr>\n",
    "    <td>מאיפה נאספו הנתונים</td>\n",
    "    <td>מהאתר <a href=\"lichess.org\">lichess.org</a> המשמש למשחקי שח אונליין</td>\n",
    "  </tr>\n",
    "</table>\n",
    "</div>"
   ]
  },
  {
   "cell_type": "markdown",
   "metadata": {},
   "source": [
    "<h2 dir=\"rtl\">ייבוא ספריות</h2>"
   ]
  },
  {
   "cell_type": "code",
   "execution_count": 125,
   "metadata": {},
   "outputs": [],
   "source": [
    "import datetime as dt\n",
    "import numpy as np # numerical computations\n",
    "import pandas as pd # DataFrames and Series\n",
    "import tensorflow as tf # Deep learning backend\n",
    "\n",
    "# The following two lines were suggested to me\n",
    "# by the 'Configuring your backend' section\n",
    "# of the 'Getting Started with Keras' webpage\n",
    "# on Keras' official website.\n",
    "# https://keras.io/getting_started/\n",
    "import os\n",
    "os.environ[\"KERAS_BACKEND\"] = \"tensorflow\"\n",
    "import keras as kr # Deep learning frontend"
   ]
  },
  {
   "cell_type": "markdown",
   "metadata": {},
   "source": [
    "<h2 dir=\"rtl\">מבנה הטבלה</h2>"
   ]
  },
  {
   "cell_type": "markdown",
   "metadata": {},
   "source": [
    "<p dir=\"rtl\">טעינת הטבלה</p>"
   ]
  },
  {
   "cell_type": "code",
   "execution_count": 5,
   "metadata": {},
   "outputs": [],
   "source": [
    "orig = pd.read_csv('https://raw.githubusercontent.com/ItaiBTeacher/ml-2324/main/projects/chess/data/static/dataset.csv')"
   ]
  },
  {
   "cell_type": "markdown",
   "metadata": {},
   "source": [
    "<p dir=\"rtl\">מספר שורות</p>"
   ]
  },
  {
   "cell_type": "code",
   "execution_count": 6,
   "metadata": {},
   "outputs": [
    {
     "data": {
      "text/plain": [
       "20058"
      ]
     },
     "execution_count": 6,
     "metadata": {},
     "output_type": "execute_result"
    }
   ],
   "source": [
    "orig.shape[0]"
   ]
  },
  {
   "cell_type": "markdown",
   "metadata": {},
   "source": [
    "<p dir=\"rtl\">מספר עמודות</p>"
   ]
  },
  {
   "cell_type": "code",
   "execution_count": 24,
   "metadata": {},
   "outputs": [
    {
     "data": {
      "text/plain": [
       "16"
      ]
     },
     "execution_count": 24,
     "metadata": {},
     "output_type": "execute_result"
    }
   ],
   "source": [
    "len(orig.columns)"
   ]
  },
  {
   "cell_type": "markdown",
   "metadata": {},
   "source": [
    "<div dir=\"rtl\">\n",
    "    <p>שמות העמודות, טיפוסי הנתונים שלהן, ומספר הערכים החסרים (NaN) בכ\"א מהן</p>\n",
    "    <p>ניתן לראות שאין באף עמודה ערכים חסרים.</p>\n",
    "</div>"
   ]
  },
  {
   "cell_type": "code",
   "execution_count": 12,
   "metadata": {},
   "outputs": [
    {
     "name": "stdout",
     "output_type": "stream",
     "text": [
      "<class 'pandas.core.frame.DataFrame'>\n",
      "RangeIndex: 20058 entries, 0 to 20057\n",
      "Data columns (total 16 columns):\n",
      " #   Column          Non-Null Count  Dtype  \n",
      "---  ------          --------------  -----  \n",
      " 0   id              20058 non-null  object \n",
      " 1   rated           20058 non-null  bool   \n",
      " 2   created_at      20058 non-null  float64\n",
      " 3   last_move_at    20058 non-null  float64\n",
      " 4   turns           20058 non-null  int64  \n",
      " 5   victory_status  20058 non-null  object \n",
      " 6   winner          20058 non-null  object \n",
      " 7   increment_code  20058 non-null  object \n",
      " 8   white_id        20058 non-null  object \n",
      " 9   white_rating    20058 non-null  int64  \n",
      " 10  black_id        20058 non-null  object \n",
      " 11  black_rating    20058 non-null  int64  \n",
      " 12  moves           20058 non-null  object \n",
      " 13  opening_eco     20058 non-null  object \n",
      " 14  opening_name    20058 non-null  object \n",
      " 15  opening_ply     20058 non-null  int64  \n",
      "dtypes: bool(1), float64(2), int64(4), object(9)\n",
      "memory usage: 2.3+ MB\n"
     ]
    }
   ],
   "source": [
    "orig.info()"
   ]
  },
  {
   "cell_type": "markdown",
   "metadata": {},
   "source": [
    "<p dir=\"rtl\">\n",
    "נעבור עמודה עמודה ונראה מה משמעותה ואילו ערכים היא מכילה. בסוף נסכם את כל תובנותינו בטבלה.\n",
    "</p>"
   ]
  },
  {
   "cell_type": "markdown",
   "metadata": {},
   "source": [
    "<h3 dir=\"trl\">כל עמודה בנפרד</h3>"
   ]
  },
  {
   "cell_type": "markdown",
   "metadata": {},
   "source": [
    "<h4 dir=\"trl\">id</h4>"
   ]
  },
  {
   "cell_type": "markdown",
   "metadata": {},
   "source": [
    "<h5 dir=\"trl\">טיפוס הנתונים</h5>"
   ]
  },
  {
   "cell_type": "code",
   "execution_count": 25,
   "metadata": {},
   "outputs": [
    {
     "data": {
      "text/plain": [
       "dtype('O')"
      ]
     },
     "execution_count": 25,
     "metadata": {},
     "output_type": "execute_result"
    }
   ],
   "source": [
    "orig.id.dtype"
   ]
  },
  {
   "cell_type": "markdown",
   "metadata": {},
   "source": [
    "<h5 dir=\"trl\">מספר ערכים שונים</h5>"
   ]
  },
  {
   "cell_type": "code",
   "execution_count": 26,
   "metadata": {},
   "outputs": [
    {
     "data": {
      "text/plain": [
       "19113"
      ]
     },
     "execution_count": 26,
     "metadata": {},
     "output_type": "execute_result"
    }
   ],
   "source": [
    "orig.id.nunique()"
   ]
  },
  {
   "cell_type": "markdown",
   "metadata": {},
   "source": [
    "<h5 dir=\"trl\">ערכים לדוגמה</h5>"
   ]
  },
  {
   "cell_type": "code",
   "execution_count": 28,
   "metadata": {},
   "outputs": [
    {
     "data": {
      "text/plain": [
       "array(['TZJHLljE', 'l1NXvwaE', 'mIICvQHh', 'kWKvrqYL', '9tXo1AUZ',\n",
       "       'MsoDV9wj', 'qwU9rasv', 'RVN0N3VK', 'dwF3DJHO', 'afoMwnLg'],\n",
       "      dtype=object)"
      ]
     },
     "execution_count": 28,
     "metadata": {},
     "output_type": "execute_result"
    }
   ],
   "source": [
    "orig.id.unique()[:10]"
   ]
  },
  {
   "cell_type": "markdown",
   "metadata": {},
   "source": [
    "<h5 dir=\"trl\">משמעות העמודה</h5>"
   ]
  },
  {
   "cell_type": "markdown",
   "metadata": {},
   "source": [
    "<div dir=\"rtl\">\n",
    "<p>\n",
    "הנתונים בטבלה לקוחים מהאתר\n",
    "lichess.org\n",
    "שמהווה פלטפורמה למשחקי שחמט מקוונים.\n",
    "כל שורה בטבלה מתארת משחק ששוחק באתר זה.\n",
    "לכל משחק יש מזהה, שהוא מחרוזת, למשל\n",
    "TZJHLljE, l1NXvwaE, mIICvQHh.\n",
    "</p>\n",
    "<p>\n",
    "לאור זאת הייתי מצפה שלכל שתי שורות שונות בטבלה יהיו ערכים שונים בעמודה\n",
    "id.\n",
    "אך בפועל מספר הערכים השונים בעמודה זו\n",
    "(19113)\n",
    "קטן ממספר השורות בטבלה\n",
    "(20053).\n",
    "מכאן שיש מזהי משחק המופיעים פעמיים או יותר. נוודא זאת בקוד.\n",
    "</p>\n",
    "</div>"
   ]
  },
  {
   "cell_type": "code",
   "execution_count": 60,
   "metadata": {},
   "outputs": [
    {
     "data": {
      "text/plain": [
       "id\n",
       "XRuQPSzH    5\n",
       "edYOVb5F    4\n",
       "o4T7dj5h    4\n",
       "I8odmGjb    4\n",
       "ZPHBiKBY    4\n",
       "Name: count, dtype: int64"
      ]
     },
     "execution_count": 60,
     "metadata": {},
     "output_type": "execute_result"
    }
   ],
   "source": [
    "orig.id.value_counts().head()"
   ]
  },
  {
   "cell_type": "markdown",
   "metadata": {},
   "source": [
    "<div dir=\"rtl\">\n",
    "<p>\n",
    "אכן, יש מזהי משחק המופיעים יותר מפעם אחת, לדוגמה\n",
    "XRuQPSzH\n",
    "מופיע 5 פעמים.\n",
    "</p>\n",
    "<p>\n",
    "מכל שורה שיש לה כפילויות בטבלה נשאיר רק עותק אחד. אולי זה יפתור את הבעיה.\n",
    "</p>\n",
    "</div>"
   ]
  },
  {
   "cell_type": "code",
   "execution_count": 68,
   "metadata": {},
   "outputs": [],
   "source": [
    "orig_no_dup_rows = orig.drop_duplicates()"
   ]
  },
  {
   "cell_type": "markdown",
   "metadata": {},
   "source": [
    "<p dir=\"rtl\">\n",
    "האם זה פתר את הבעיה?\n",
    "</p>"
   ]
  },
  {
   "cell_type": "code",
   "execution_count": 69,
   "metadata": {},
   "outputs": [
    {
     "name": "stdout",
     "output_type": "stream",
     "text": [
      "Number of rows:  19629\n",
      "Number of unique ids:  19113\n"
     ]
    }
   ],
   "source": [
    "print('Number of rows: ', orig_no_dup_rows.shape[0])\n",
    "print('Number of unique ids: ', orig_no_dup_rows.id.nunique())"
   ]
  },
  {
   "cell_type": "markdown",
   "metadata": {},
   "source": [
    "<p dir=\"rtl\">\n",
    "לא פתר את הבעיה! בכמה שורות סה\"כ מופיעים מזהי משחק שאינם יחודיים בעמודה\n",
    "id?\n",
    "ומה החלק היחסי של שורות אלו ביחס למספר השורות הכולל בטבלה?\n",
    "</p>"
   ]
  },
  {
   "cell_type": "code",
   "execution_count": 74,
   "metadata": {},
   "outputs": [
    {
     "name": "stdout",
     "output_type": "stream",
     "text": [
      "Number of rows with a non-unique id:  1032\n",
      "Which is  5.2575271282286415  percent of the total number of table rows\n"
     ]
    }
   ],
   "source": [
    "dup_id_row_num = sum(orig_no_dup_rows.id.duplicated(keep=False))\n",
    "print('Number of rows with a non-unique id: ', dup_id_row_num)\n",
    "print('Which is ', (dup_id_row_num / orig_no_dup_rows.shape[0]) * 100, ' percent of the total number of table rows')"
   ]
  },
  {
   "cell_type": "markdown",
   "metadata": {},
   "source": [
    "<p dir=\"rtl\">\n",
    "ננקוט בצעד הפשוט ונשאיר מכל מקבץ שורות שמזהה המשחק שלהן מופיע יותר מפעם אחת רק את השורה הראשונה במקבץ. בעשותנו כך, יימחקו מהטבלה לכל היותר 5.26% מכלל השורות בטבלה, וזה יותר אותנו עם למעלה מ- 18000 שורות.\n",
    "</p>"
   ]
  },
  {
   "cell_type": "code",
   "execution_count": 75,
   "metadata": {},
   "outputs": [],
   "source": [
    "orig_no_dup_ids = orig_no_dup_rows.drop_duplicates(subset='id')"
   ]
  },
  {
   "cell_type": "markdown",
   "metadata": {},
   "source": [
    "<p dir=\"rtl\">\n",
    "עתה מספר השורות בטבלה זהה למספר מזהי המשחק השונים בעמודה\n",
    "id.\n",
    "</p>"
   ]
  },
  {
   "cell_type": "code",
   "execution_count": 76,
   "metadata": {},
   "outputs": [
    {
     "name": "stdout",
     "output_type": "stream",
     "text": [
      "Number of rows:  19113\n",
      "Number of unique ids:  19113\n"
     ]
    }
   ],
   "source": [
    "print('Number of rows: ', orig_no_dup_ids.shape[0])\n",
    "print('Number of unique ids: ', orig_no_dup_ids.id.nunique())"
   ]
  },
  {
   "cell_type": "markdown",
   "metadata": {},
   "source": [
    "<p dir=\"rtl\">\n",
    "עתה בעמודה\n",
    "id\n",
    "אין מידע שעשוי לתרום ללמידה, ולפיכך נשמיט אותה מהטבלה.\n",
    "</p>"
   ]
  },
  {
   "cell_type": "code",
   "execution_count": 77,
   "metadata": {},
   "outputs": [],
   "source": [
    "orig_no_ids = orig_no_dup_ids.drop(labels='id', axis=1)"
   ]
  },
  {
   "cell_type": "markdown",
   "metadata": {},
   "source": [
    "<h4 dir=\"trl\">rated</h4>"
   ]
  },
  {
   "cell_type": "markdown",
   "metadata": {},
   "source": [
    "<h5 dir=\"trl\">טיפוס הנתונים</h5>"
   ]
  },
  {
   "cell_type": "code",
   "execution_count": 120,
   "metadata": {},
   "outputs": [
    {
     "data": {
      "text/plain": [
       "dtype('bool')"
      ]
     },
     "execution_count": 120,
     "metadata": {},
     "output_type": "execute_result"
    }
   ],
   "source": [
    "orig_no_ids.rated.dtype"
   ]
  },
  {
   "cell_type": "markdown",
   "metadata": {},
   "source": [
    "<h5 dir=\"trl\">מספר ערכים שונים</h5>"
   ]
  },
  {
   "cell_type": "code",
   "execution_count": 119,
   "metadata": {},
   "outputs": [
    {
     "data": {
      "text/plain": [
       "2"
      ]
     },
     "execution_count": 119,
     "metadata": {},
     "output_type": "execute_result"
    }
   ],
   "source": [
    "orig_no_ids.rated.nunique()"
   ]
  },
  {
   "cell_type": "markdown",
   "metadata": {},
   "source": [
    "<h5 dir=\"trl\">רשימת כל הערכים</h5>"
   ]
  },
  {
   "cell_type": "code",
   "execution_count": 118,
   "metadata": {},
   "outputs": [
    {
     "data": {
      "text/plain": [
       "array([False,  True])"
      ]
     },
     "execution_count": 118,
     "metadata": {},
     "output_type": "execute_result"
    }
   ],
   "source": [
    "orig_no_ids.rated.unique()"
   ]
  },
  {
   "cell_type": "markdown",
   "metadata": {},
   "source": [
    "<h5 dir=\"trl\">משמעות העמודה</h5>"
   ]
  },
  {
   "cell_type": "markdown",
   "metadata": {},
   "source": [
    "<p dir=\"rtl\">\n",
    "לכל השחקנים בטבלה יש דירוג (ר' להלן בתיאור העמודה\n",
    "white_rating).\n",
    "הדירוג של שחקן עשוי להשתנות בתום כל משחק שהוא השתתף בו.\n",
    "הדירוג של שחקן בתום משחק כלשהו הוא פונקציה של דירוג השחקן לפני תחילת המשחק\n",
    "ושל מאפייני המשחק שזה עתה הסתיים\n",
    "(למשל אם השחקן ניצח במשחק או הפסיד בו, ומה היה דירוג היריב שלו בתחילת המשחק).\n",
    "יש משחקים שנקבע לגביהם מלכתחילה שלא ישפיעו על דירוג השחקנים.\n",
    "משחקים אלו מצויינים בטבלה ע\"י הערך\n",
    "False\n",
    "בעמודה\n",
    "rated.\n",
    "המשחקים האחרים, כלומר אלו שהוחלט לגביהם מלכתחילה שישוכללו בדירוג השחקנים המשתתפים בהם,\n",
    "מצויינים בטבלה ע\"י הערך\n",
    "True\n",
    "בעמודה\n",
    "rated.\n",
    "</p>"
   ]
  },
  {
   "cell_type": "markdown",
   "metadata": {},
   "source": [
    "<h5 dir=\"rtl\">סימוכין</h5>"
   ]
  },
  {
   "cell_type": "markdown",
   "metadata": {},
   "source": [
    "<a href=\"https://www.chess.com/forum/view/help-support/rated-and-unrated-games-listing\">chess.com forum</a>"
   ]
  },
  {
   "cell_type": "markdown",
   "metadata": {},
   "source": [
    "<h4 dir=\"trl\">created_at, last_move_at</h4>"
   ]
  },
  {
   "cell_type": "markdown",
   "metadata": {},
   "source": [
    "<h5 dir=\"trl\">טיפוס הנתונים</h5>"
   ]
  },
  {
   "cell_type": "code",
   "execution_count": 121,
   "metadata": {},
   "outputs": [
    {
     "name": "stdout",
     "output_type": "stream",
     "text": [
      "created_at dtype:  float64\n",
      "last_move_at dtype:  float64\n"
     ]
    }
   ],
   "source": [
    "print('created_at dtype: ', orig_no_ids.created_at.dtype)\n",
    "print('last_move_at dtype: ', orig_no_ids.last_move_at.dtype)"
   ]
  },
  {
   "cell_type": "markdown",
   "metadata": {},
   "source": [
    "<h5 dir=\"trl\">מספר ערכים שונים</h5>"
   ]
  },
  {
   "cell_type": "code",
   "execution_count": 122,
   "metadata": {},
   "outputs": [
    {
     "name": "stdout",
     "output_type": "stream",
     "text": [
      "created_at num of unique values:  12640\n",
      "last_move_at num of unique values:  12670\n"
     ]
    }
   ],
   "source": [
    "print('created_at num of unique values: ', orig_no_ids.created_at.nunique())\n",
    "print('last_move_at num of unique values: ', orig_no_ids.last_move_at.nunique())"
   ]
  },
  {
   "cell_type": "markdown",
   "metadata": {},
   "source": [
    "<h5 dir=\"trl\">ערכים לדוגמה</h5>"
   ]
  },
  {
   "cell_type": "code",
   "execution_count": 123,
   "metadata": {},
   "outputs": [
    {
     "name": "stdout",
     "output_type": "stream",
     "text": [
      "Some values from the created_at column:  [1.50421e+12 1.50413e+12 1.50411e+12 1.50403e+12 1.50424e+12]\n",
      "Some values from the last_move_at column:  [1.50421e+12 1.50413e+12 1.50411e+12 1.50403e+12 1.50424e+12]\n"
     ]
    }
   ],
   "source": [
    "print('Some values from the created_at column: ', orig_no_ids.created_at.unique()[:5])\n",
    "print('Some values from the last_move_at column: ', orig_no_ids.last_move_at.unique()[:5])"
   ]
  },
  {
   "cell_type": "markdown",
   "metadata": {},
   "source": [
    "<h5 dir=\"trl\">משמעות העמודות</h5>"
   ]
  },
  {
   "cell_type": "markdown",
   "metadata": {},
   "source": [
    "<div dir=\"rtl\">\n",
    "<p>\n",
    "אני משער שעמודות אלו מקודדות תאריך וזמן (כלומר את ה-\n",
    "timestamp)\n",
    "של אירועים כלשהם פר משחק. זה משאיר שתי שאלות פתוחות: מה האירועים, ומה הקידוד.\n",
    "</p>\n",
    "<p>\n",
    "לגבי האירועים, אני מנחש ש-\n",
    "last_move_at\n",
    "זה התאריך והזמן שבו הסתיים המהלך האחרון במשחק.\n",
    "קשה לי לומר מה משמעות\n",
    "created_at.\n",
    "האם הכוונה לתחילת המשחק או לאירוע אחר?\n",
    "</p>\n",
    "<p>\n",
    "בין כך ובין כך, אני מעריך שהזמנים האבסולוטיים המקודדים בשתי העמודות הללו אינם חשובים,\n",
    "אלא מה שחשוב זה ההפרש ביניהם, שנותן במדיוק או בערך את משך זמן המשחק.\n",
    "אולם אם זה המצב, אז כמעט מחצית המשחקים התחילו והסתיימו באותו הזמן, כפי שמראה קטע הקוד הבא.\n",
    "</p>\n",
    "<div>"
   ]
  },
  {
   "cell_type": "code",
   "execution_count": 127,
   "metadata": {},
   "outputs": [
    {
     "name": "stdout",
     "output_type": "stream",
     "text": [
      "Number of games that started and ended at the same time:  8533\n",
      "Percentage of these games w.r.t the total number of games:  44.64500601684717\n"
     ]
    }
   ],
   "source": [
    "start_time_equals_end_time_row_num = sum(orig_no_ids.created_at == orig_no_ids.last_move_at)\n",
    "print('Number of games that started and ended at the same time: ', start_time_equals_end_time_row_num)\n",
    "print('Percentage of these games w.r.t the total number of games: ', (start_time_equals_end_time_row_num / orig_no_ids.shape[0]) * 100)"
   ]
  },
  {
   "cell_type": "markdown",
   "metadata": {},
   "source": [
    "<p dir=\"rtl\">\n",
    "נראה לי שעומדות בפני שתי ברירות:\n",
    "למחוק מהטבלה את המשחקים שעבורם זמני תחילת וסוף המשחק זהים,\n",
    "או למחוק מהטבלה את העמודות\n",
    "created_at\n",
    "ו-\n",
    "last_move_at\n",
    "מתוך הנחה שאני לא מבין את משמעות העמודות הללו,\n",
    "או שהערכים המופיעים בהן \"מקולקלים\".\n",
    "מאחר ומדובר במספר רב של שורות,\n",
    "ואני גם לא יודע מה הקידוד ששימש ליצירת הערכים בעמודות אלה,\n",
    "אני בוחר את האפשרות השניה.\n",
    "</p>"
   ]
  },
  {
   "cell_type": "code",
   "execution_count": 128,
   "metadata": {},
   "outputs": [],
   "source": [
    "orig_no_ids_no_times = orig_no_ids.drop(['created_at', 'last_move_at'], axis=1)"
   ]
  },
  {
   "cell_type": "markdown",
   "metadata": {},
   "source": [
    "<h4 dir=\"trl\">turns</h4>"
   ]
  },
  {
   "cell_type": "markdown",
   "metadata": {},
   "source": [
    "<h4 dir=\"trl\">victory_status</h4>"
   ]
  },
  {
   "cell_type": "markdown",
   "metadata": {},
   "source": [
    "<h4 dir=\"trl\">winner</h4>"
   ]
  },
  {
   "cell_type": "markdown",
   "metadata": {},
   "source": [
    "<h4 dir=\"trl\">increment_code</h4>"
   ]
  },
  {
   "cell_type": "markdown",
   "metadata": {},
   "source": [
    "<h4 dir=\"trl\">white_id</h4>"
   ]
  },
  {
   "cell_type": "markdown",
   "metadata": {},
   "source": [
    "<h4 dir=\"trl\">white_rating</h4>"
   ]
  },
  {
   "cell_type": "markdown",
   "metadata": {},
   "source": [
    "<h4 dir=\"trl\">black_id</h4>"
   ]
  },
  {
   "cell_type": "markdown",
   "metadata": {},
   "source": [
    "<h4 dir=\"trl\">black_rating</h4>"
   ]
  },
  {
   "cell_type": "markdown",
   "metadata": {},
   "source": [
    "<h4 dir=\"trl\">moves</h4>"
   ]
  },
  {
   "cell_type": "markdown",
   "metadata": {},
   "source": [
    "<h4 dir=\"trl\">opening_eco</h4>"
   ]
  },
  {
   "cell_type": "markdown",
   "metadata": {},
   "source": [
    "<h4 dir=\"trl\">opening_name</h4>"
   ]
  },
  {
   "cell_type": "markdown",
   "metadata": {},
   "source": [
    "<h4 dir=\"trl\">opening_ply</h4>"
   ]
  },
  {
   "cell_type": "markdown",
   "metadata": {},
   "source": [
    "<h3 dir=\"trl\">סיכום עמודות הטבלה</h3>"
   ]
  },
  {
   "cell_type": "markdown",
   "metadata": {},
   "source": [
    "<div dir=\"rtl\">\n",
    "<table dir>\n",
    "  <th>\n",
    "    <td>תיאור קצר</td>\n",
    "    <td>הערות</td>\n",
    "  </th>\n",
    "  <tr>\n",
    "    <td>id</td>\n",
    "    <td>מזהה של המשחק</td>\n",
    "    <td>מסיבה לא ברורה מספר הערכים השונים בעמודה זו 19113 קטן ממספר השורות</td>\n",
    "  </tr>\n",
    "  <tr>\n",
    "    <td>rated</td>\n",
    "    <td>משחק שהוא rated הוא משחק שתוצאותיו משפיעות על דירוג השחקנים</td>\n",
    "    <td />\n",
    "  </tr>\n",
    "  <tr>\n",
    "    <td>created_at</td>\n",
    "    <td />\n",
    "    <td>לא ברורה לי משמעות עמודה זו: האם זה הזמן שבו התחיל המשחק, או הזמן שבו הוא \"נוצר\" והתחילו לשחק בו רק אח\"כ</td>\n",
    "  </tr>\n",
    "  <tr>\n",
    "    <td>last_move_at</td>\n",
    "    <td>אני משער שעמודה זו מקודדת את התאריך והזמן שבו הסתיים המשחק</td>\n",
    "    <td />\n",
    "  </tr>\n",
    "  <tr>\n",
    "    <td>turns</td>\n",
    "    <td>מספר התורות במשחק</td>\n",
    "    <td>במשחק שחמט תור מורכב מזוג מהלכים: של הלבן ושל השחור</td>\n",
    "  </tr>\n",
    "  <tr>\n",
    "    <td>victory_status</td>\n",
    "    <td>4 אפשרויות: outoftime, resign, mate, draw</td>\n",
    "    <td />\n",
    "  </tr>\n",
    "  <tr>\n",
    "    <td>winner</td>\n",
    "    <td>3 אפשרויות: black, white, draw</td>\n",
    "    <td />\n",
    "  </tr>\n",
    "  <tr>\n",
    "    <td>increment_code</td>\n",
    "    <td>מחרוזת מהצורה: זמן משחק בדקות + תוספת זמן בשניות לכל מהלך, למשל 2+10 בשביל משחק שאורכו 2 דקות, עם 10 שניות הארכת זמן לכל מהלך</td>\n",
    "    <td>כל פעם כשמגיע תורו של שחקן לשחק מתווספת הארכת הזמן לזמן שנותר לו לשחק</td>\n",
    "  </tr>\n",
    "  <tr>\n",
    "    <td>white_id</td>\n",
    "    <td>מזהה של השחקן הלבן</td>\n",
    "    <td />\n",
    "  </tr>\n",
    "  <tr>\n",
    "    <td>white_rating</td>\n",
    "    <td>דירוג השחקן הלבן</td>\n",
    "    <td>ככל שהדירוג גבוה יותר, כך השחקן טוב יותר</td>\n",
    "  </tr>\n",
    "  <tr>\n",
    "    <td>black_id</td>\n",
    "    <td>מזהה של השחקן השחור</td>\n",
    "    <td />\n",
    "  </tr>\n",
    "  <tr>\n",
    "    <td>black_rating</td>\n",
    "    <td>דירוג השחקן השחור</td>\n",
    "    <td>ככל שהדירוג גבוה יותר, כך השחקן טוב יותר</td>\n",
    "  </tr>\n",
    "  <tr>\n",
    "    <td>moves</td>\n",
    "    <td>תיאור שלם של המשחק בנוטציה הסטנדרטית של משחקי שחמט</td>\n",
    "    <td />\n",
    "  </tr>\n",
    "  <tr>\n",
    "    <td>opening_eco</td>\n",
    "    <td>קוד המתאר את הפתיחה</td>\n",
    "    <td />\n",
    "  </tr>\n",
    "  <tr>\n",
    "    <td>opening_name</td>\n",
    "    <td>שם הפתיחה, באנגלית</td>\n",
    "    <td />\n",
    "  </tr>\n",
    "  <tr>\n",
    "    <td>opening_ply</td>\n",
    "    <td>מספר המהלכים בחלק הפתיחה</td>\n",
    "    <td />\n",
    "  </tr>\n",
    "</table>\n",
    "</div>"
   ]
  }
 ],
 "metadata": {
  "kernelspec": {
   "display_name": ".venv",
   "language": "python",
   "name": "python3"
  },
  "language_info": {
   "codemirror_mode": {
    "name": "ipython",
    "version": 3
   },
   "file_extension": ".py",
   "mimetype": "text/x-python",
   "name": "python",
   "nbconvert_exporter": "python",
   "pygments_lexer": "ipython3",
   "version": "3.12.5"
  }
 },
 "nbformat": 4,
 "nbformat_minor": 2
}
